{
 "cells": [
  {
   "cell_type": "markdown",
   "id": "b679cf39",
   "metadata": {},
   "source": [
    "# Mexca Demo\n",
    "\n",
    "This is a short demo to illustrate how mexca can be used to extract emotion expression features from a video file. As an example, we will use a video of the presidential debate betweeen Clinton and Trump in 2016. The video can be found on [YouTube](https://www.youtube.com/watch?v=DBhrSdjePkk), but we will use a file that is hosted by a third party."
   ]
  },
  {
   "cell_type": "code",
   "execution_count": 1,
   "metadata": {},
   "outputs": [],
   "source": [
    "from huggingface_hub import notebook_login\n",
    "from mexca.core.pipeline import Pipeline\n",
    "from urllib.request import urlopen\n",
    "import os\n",
    "import pandas as pd\n",
    "from IPython.display import Video"
   ]
  },
  {
   "cell_type": "markdown",
   "id": "9de48e94",
   "metadata": {},
   "source": [
    "Before we can apply mexca, we need to download the example video file."
   ]
  },
  {
   "cell_type": "code",
   "execution_count": 2,
   "id": "9bdd12ea",
   "metadata": {},
   "outputs": [],
   "source": [
    "def download_example(url, filename):\n",
    "    # Check if filename exists\n",
    "    if not os.path.exists(filename):\n",
    "        video = urlopen(url)\n",
    "\n",
    "        with open(filename, 'wb') as file:\n",
    "            file.write(video.read())"
   ]
  },
  {
   "cell_type": "code",
   "execution_count": 3,
   "id": "edfc96ea",
   "metadata": {},
   "outputs": [
    {
     "data": {
      "text/html": [
       "<video src=\"debate.mp4\" controls  >\n",
       "      Your browser does not support the <code>video</code> element.\n",
       "    </video>"
      ],
      "text/plain": [
       "<IPython.core.display.Video object>"
      ]
     },
     "execution_count": 3,
     "metadata": {},
     "output_type": "execute_result"
    }
   ],
   "source": [
    "example_url = 'https://books.psychstat.org/rdata/data/debate.mp4'\n",
    "filename = 'debate.mp4'\n",
    "\n",
    "download_example(example_url, filename)\n",
    "\n",
    "Video(filename)"
   ]
  },
  {
   "cell_type": "markdown",
   "id": "95ee5ef5",
   "metadata": {},
   "source": [
    "*Note*: mexca builds on pretrained models from the pyannote.audio package. Since release 2.1.1, downloading the pretrained models requires the user to accept two user agreements on Hugging Face hub and generate an authentication token. Therefore, to run the mexca pipeline, please accept the user agreements on [here](https://huggingface.co/pyannote/speaker-diarization) and [here](https://huggingface.co/pyannote/segmentation). Then, generate an authentication token [here](https://huggingface.co/settings/tokens). Use this token to login when running `notebook_login()`. You only need to login when running mexca for the first time."
   ]
  },
  {
   "cell_type": "code",
   "execution_count": 4,
   "id": "52df2813",
   "metadata": {},
   "outputs": [
    {
     "name": "stdout",
     "output_type": "stream",
     "text": [
      "08/30/2022 13:24:03 - WARNING - speechbrain.utils.torch_audio_backend - The torchaudio backend is switched to 'soundfile'. Note that 'sox_io' is not supported on Windows.\n",
      "08/30/2022 13:24:03 - WARNING - speechbrain.utils.torch_audio_backend - The torchaudio backend is switched to 'soundfile'. Note that 'sox_io' is not supported on Windows.\n",
      "08/30/2022 13:24:05 - INFO - huggingsound.speech_recognition.model - Loading model...\n"
     ]
    }
   ],
   "source": [
    "# Only required the first time to store the token\n",
    "notebook_login()"
   ]
  },
  {
   "cell_type": "markdown",
   "id": "db52bef4",
   "metadata": {},
   "source": [
    "Now that we have the example video, we can create a mexca pipeline object using the default constructor method. This method creates a complete, standard pipeline including all modalities (video, audio, text) with default settings. For the audio transcription, we need to specify the language the pipeline will be transcribing (here English)."
   ]
  },
  {
   "cell_type": "code",
   "execution_count": null,
   "id": "caf7581d",
   "metadata": {},
   "outputs": [],
   "source": [
    "pipeline = Pipeline().from_default(language='english')"
   ]
  },
  {
   "cell_type": "markdown",
   "id": "bc9a3497",
   "metadata": {},
   "source": [
    "Next, we can apply the mexca pipeline object to the example video file. It can take a long time to process video files. Thus, we will only process 10 seconds of the video by setting the `process_subclip` argument (seconds 19 to 29)."
   ]
  },
  {
   "cell_type": "code",
   "execution_count": 5,
   "id": "b01f8ea6",
   "metadata": {},
   "outputs": [
    {
     "name": "stdout",
     "output_type": "stream",
     "text": [
      "Analyzing video ...\n"
     ]
    },
    {
     "name": "stderr",
     "output_type": "stream",
     "text": [
      "100%|██████████| 250/250 [01:20<00:00,  3.12it/s]\n"
     ]
    },
    {
     "name": "stdout",
     "output_type": "stream",
     "text": [
      "Video done\n",
      "Analyzing audio ...\n"
     ]
    },
    {
     "name": "stderr",
     "output_type": "stream",
     "text": [
      "100%|██████████| 1/1 [00:00<?, ?it/s]\n"
     ]
    },
    {
     "name": "stdout",
     "output_type": "stream",
     "text": [
      "Audio done\n",
      "Analyzing text ...\n"
     ]
    },
    {
     "name": "stderr",
     "output_type": "stream",
     "text": [
      "100%|██████████| 1/1 [00:04<00:00,  4.29s/it]"
     ]
    },
    {
     "name": "stdout",
     "output_type": "stream",
     "text": [
      "Text done\n"
     ]
    },
    {
     "name": "stderr",
     "output_type": "stream",
     "text": [
      "\n"
     ]
    }
   ],
   "source": [
    "output = pipeline.apply(filename, process_subclip=(19, 29))"
   ]
  },
  {
   "cell_type": "markdown",
   "id": "df081d62",
   "metadata": {},
   "source": [
    "The pipeline returns a `Multimodal` object that contains the extracted emotion expression features in the `feature` attribute. We can convert the features into a `pandas.DataFrame` for further inspection and processing."
   ]
  },
  {
   "cell_type": "code",
   "execution_count": 6,
   "id": "36891d4e",
   "metadata": {},
   "outputs": [
    {
     "data": {
      "text/html": [
       "<div>\n",
       "<style scoped>\n",
       "    .dataframe tbody tr th:only-of-type {\n",
       "        vertical-align: middle;\n",
       "    }\n",
       "\n",
       "    .dataframe tbody tr th {\n",
       "        vertical-align: top;\n",
       "    }\n",
       "\n",
       "    .dataframe thead th {\n",
       "        text-align: right;\n",
       "    }\n",
       "</style>\n",
       "<table border=\"1\" class=\"dataframe\">\n",
       "  <thead>\n",
       "    <tr style=\"text-align: right;\">\n",
       "      <th></th>\n",
       "      <th>frame</th>\n",
       "      <th>time</th>\n",
       "      <th>face_box</th>\n",
       "      <th>face_prob</th>\n",
       "      <th>face_landmarks</th>\n",
       "      <th>face_aus</th>\n",
       "      <th>face_id</th>\n",
       "      <th>pitchF0</th>\n",
       "      <th>segment_id</th>\n",
       "      <th>segment_start</th>\n",
       "      <th>segment_end</th>\n",
       "      <th>track</th>\n",
       "      <th>speaker_id</th>\n",
       "      <th>text_token_id</th>\n",
       "      <th>text_token</th>\n",
       "      <th>text_token_start</th>\n",
       "      <th>text_token_end</th>\n",
       "      <th>match_id</th>\n",
       "    </tr>\n",
       "  </thead>\n",
       "  <tbody>\n",
       "    <tr>\n",
       "      <th>0</th>\n",
       "      <td>0</td>\n",
       "      <td>0.00</td>\n",
       "      <td>[152.7034, 54.79718, 188.72562, 101.63676]</td>\n",
       "      <td>0.995797</td>\n",
       "      <td>[157.67497766017914, 77.6062490940094]</td>\n",
       "      <td>[0.19813386, 0.9820602, 0.01565872, 0.7402648,...</td>\n",
       "      <td>33.0</td>\n",
       "      <td>NaN</td>\n",
       "      <td>0.0</td>\n",
       "      <td>0.0</td>\n",
       "      <td>0.0</td>\n",
       "      <td></td>\n",
       "      <td></td>\n",
       "      <td>0.0</td>\n",
       "      <td></td>\n",
       "      <td>0.0</td>\n",
       "      <td>0.00</td>\n",
       "      <td>0.0</td>\n",
       "    </tr>\n",
       "    <tr>\n",
       "      <th>1</th>\n",
       "      <td>1</td>\n",
       "      <td>0.04</td>\n",
       "      <td>[150.80806, 54.61269, 187.75795, 98.58902]</td>\n",
       "      <td>0.951096</td>\n",
       "      <td>[158.0879489183426, 77.3046144247055]</td>\n",
       "      <td>[0.19556102, 0.9880665, 0.0186732, 0.6875217, ...</td>\n",
       "      <td>33.0</td>\n",
       "      <td>235.303811</td>\n",
       "      <td>0.0</td>\n",
       "      <td>0.0</td>\n",
       "      <td>0.0</td>\n",
       "      <td></td>\n",
       "      <td></td>\n",
       "      <td>0.0</td>\n",
       "      <td></td>\n",
       "      <td>0.0</td>\n",
       "      <td>0.00</td>\n",
       "      <td>0.0</td>\n",
       "    </tr>\n",
       "    <tr>\n",
       "      <th>2</th>\n",
       "      <td>2</td>\n",
       "      <td>0.08</td>\n",
       "      <td>[153.00014, 53.994972, 188.90388, 100.47665]</td>\n",
       "      <td>0.948597</td>\n",
       "      <td>[157.4544359445572, 76.8644654750824]</td>\n",
       "      <td>[0.17714082, 0.9813759, 0.019113649, 0.6613569...</td>\n",
       "      <td>33.0</td>\n",
       "      <td>228.937996</td>\n",
       "      <td>0.0</td>\n",
       "      <td>0.0</td>\n",
       "      <td>0.0</td>\n",
       "      <td></td>\n",
       "      <td></td>\n",
       "      <td>0.0</td>\n",
       "      <td></td>\n",
       "      <td>0.0</td>\n",
       "      <td>0.00</td>\n",
       "      <td>0.0</td>\n",
       "    </tr>\n",
       "    <tr>\n",
       "      <th>3</th>\n",
       "      <td>3</td>\n",
       "      <td>0.12</td>\n",
       "      <td>[152.07495, 55.0316, 187.75964, 100.87048]</td>\n",
       "      <td>0.970770</td>\n",
       "      <td>[158.34282779693604, 76.28121328353882]</td>\n",
       "      <td>[0.18197653, 0.9805567, 0.020266142, 0.6350254...</td>\n",
       "      <td>33.0</td>\n",
       "      <td>NaN</td>\n",
       "      <td>0.0</td>\n",
       "      <td>0.0</td>\n",
       "      <td>0.0</td>\n",
       "      <td></td>\n",
       "      <td></td>\n",
       "      <td>0.0</td>\n",
       "      <td>called</td>\n",
       "      <td>0.1</td>\n",
       "      <td>0.42</td>\n",
       "      <td>0.0</td>\n",
       "    </tr>\n",
       "    <tr>\n",
       "      <th>4</th>\n",
       "      <td>4</td>\n",
       "      <td>0.16</td>\n",
       "      <td>NaN</td>\n",
       "      <td>NaN</td>\n",
       "      <td>NaN</td>\n",
       "      <td>NaN</td>\n",
       "      <td>NaN</td>\n",
       "      <td>241.922074</td>\n",
       "      <td>0.0</td>\n",
       "      <td>0.0</td>\n",
       "      <td>0.0</td>\n",
       "      <td></td>\n",
       "      <td></td>\n",
       "      <td>0.0</td>\n",
       "      <td>called</td>\n",
       "      <td>0.1</td>\n",
       "      <td>0.42</td>\n",
       "      <td>0.0</td>\n",
       "    </tr>\n",
       "    <tr>\n",
       "      <th>...</th>\n",
       "      <td>...</td>\n",
       "      <td>...</td>\n",
       "      <td>...</td>\n",
       "      <td>...</td>\n",
       "      <td>...</td>\n",
       "      <td>...</td>\n",
       "      <td>...</td>\n",
       "      <td>...</td>\n",
       "      <td>...</td>\n",
       "      <td>...</td>\n",
       "      <td>...</td>\n",
       "      <td>...</td>\n",
       "      <td>...</td>\n",
       "      <td>...</td>\n",
       "      <td>...</td>\n",
       "      <td>...</td>\n",
       "      <td>...</td>\n",
       "      <td>...</td>\n",
       "    </tr>\n",
       "    <tr>\n",
       "      <th>247</th>\n",
       "      <td>245</td>\n",
       "      <td>9.80</td>\n",
       "      <td>[295.1616, 68.45729, 384.9053, 185.97256]</td>\n",
       "      <td>0.986520</td>\n",
       "      <td>[301.49172043800354, 117.4190034866333]</td>\n",
       "      <td>[0.14955567, 0.937534, 0.0047857133, 0.8661386...</td>\n",
       "      <td>11.0</td>\n",
       "      <td>176.077137</td>\n",
       "      <td>0.0</td>\n",
       "      <td>0.0</td>\n",
       "      <td>0.0</td>\n",
       "      <td></td>\n",
       "      <td></td>\n",
       "      <td>0.0</td>\n",
       "      <td></td>\n",
       "      <td>0.0</td>\n",
       "      <td>0.00</td>\n",
       "      <td>0.0</td>\n",
       "    </tr>\n",
       "    <tr>\n",
       "      <th>248</th>\n",
       "      <td>246</td>\n",
       "      <td>9.84</td>\n",
       "      <td>[292.8204, 69.97427, 383.19717, 185.33023]</td>\n",
       "      <td>0.985304</td>\n",
       "      <td>[299.9294970780611, 118.42326319217682]</td>\n",
       "      <td>[0.14492835, 0.9356139, 0.004929804, 0.8497235...</td>\n",
       "      <td>26.0</td>\n",
       "      <td>174.976738</td>\n",
       "      <td>0.0</td>\n",
       "      <td>0.0</td>\n",
       "      <td>0.0</td>\n",
       "      <td></td>\n",
       "      <td></td>\n",
       "      <td>0.0</td>\n",
       "      <td></td>\n",
       "      <td>0.0</td>\n",
       "      <td>0.00</td>\n",
       "      <td>1.0</td>\n",
       "    </tr>\n",
       "    <tr>\n",
       "      <th>249</th>\n",
       "      <td>247</td>\n",
       "      <td>9.88</td>\n",
       "      <td>[291.48737, 69.62635, 382.71396, 185.08218]</td>\n",
       "      <td>0.989932</td>\n",
       "      <td>[299.5945331156254, 117.64745843410492]</td>\n",
       "      <td>[0.14012621, 0.9424231, 0.006228745, 0.8394418...</td>\n",
       "      <td>26.0</td>\n",
       "      <td>182.762635</td>\n",
       "      <td>0.0</td>\n",
       "      <td>0.0</td>\n",
       "      <td>0.0</td>\n",
       "      <td></td>\n",
       "      <td></td>\n",
       "      <td>0.0</td>\n",
       "      <td></td>\n",
       "      <td>0.0</td>\n",
       "      <td>0.00</td>\n",
       "      <td>1.0</td>\n",
       "    </tr>\n",
       "    <tr>\n",
       "      <th>250</th>\n",
       "      <td>248</td>\n",
       "      <td>9.92</td>\n",
       "      <td>[289.82156, 67.945526, 380.91974, 182.10425]</td>\n",
       "      <td>0.992164</td>\n",
       "      <td>[296.6519346833229, 115.27929627895355]</td>\n",
       "      <td>[0.16058972, 0.94528455, 0.006031608, 0.788579...</td>\n",
       "      <td>26.0</td>\n",
       "      <td>198.402287</td>\n",
       "      <td>0.0</td>\n",
       "      <td>0.0</td>\n",
       "      <td>0.0</td>\n",
       "      <td></td>\n",
       "      <td></td>\n",
       "      <td>0.0</td>\n",
       "      <td></td>\n",
       "      <td>0.0</td>\n",
       "      <td>0.00</td>\n",
       "      <td>1.0</td>\n",
       "    </tr>\n",
       "    <tr>\n",
       "      <th>251</th>\n",
       "      <td>249</td>\n",
       "      <td>9.96</td>\n",
       "      <td>[286.14728, 65.287964, 377.24646, 180.38568]</td>\n",
       "      <td>0.990879</td>\n",
       "      <td>[294.26364240050316, 113.51705598831177]</td>\n",
       "      <td>[0.17241754, 0.9531619, 0.005380209, 0.7690767...</td>\n",
       "      <td>26.0</td>\n",
       "      <td>214.817071</td>\n",
       "      <td>0.0</td>\n",
       "      <td>0.0</td>\n",
       "      <td>0.0</td>\n",
       "      <td></td>\n",
       "      <td></td>\n",
       "      <td>0.0</td>\n",
       "      <td></td>\n",
       "      <td>0.0</td>\n",
       "      <td>0.00</td>\n",
       "      <td>1.0</td>\n",
       "    </tr>\n",
       "  </tbody>\n",
       "</table>\n",
       "<p>252 rows × 18 columns</p>\n",
       "</div>"
      ],
      "text/plain": [
       "     frame  time                                      face_box  face_prob  \\\n",
       "0        0  0.00    [152.7034, 54.79718, 188.72562, 101.63676]   0.995797   \n",
       "1        1  0.04    [150.80806, 54.61269, 187.75795, 98.58902]   0.951096   \n",
       "2        2  0.08  [153.00014, 53.994972, 188.90388, 100.47665]   0.948597   \n",
       "3        3  0.12    [152.07495, 55.0316, 187.75964, 100.87048]   0.970770   \n",
       "4        4  0.16                                           NaN        NaN   \n",
       "..     ...   ...                                           ...        ...   \n",
       "247    245  9.80     [295.1616, 68.45729, 384.9053, 185.97256]   0.986520   \n",
       "248    246  9.84    [292.8204, 69.97427, 383.19717, 185.33023]   0.985304   \n",
       "249    247  9.88   [291.48737, 69.62635, 382.71396, 185.08218]   0.989932   \n",
       "250    248  9.92  [289.82156, 67.945526, 380.91974, 182.10425]   0.992164   \n",
       "251    249  9.96  [286.14728, 65.287964, 377.24646, 180.38568]   0.990879   \n",
       "\n",
       "                               face_landmarks  \\\n",
       "0      [157.67497766017914, 77.6062490940094]   \n",
       "1       [158.0879489183426, 77.3046144247055]   \n",
       "2       [157.4544359445572, 76.8644654750824]   \n",
       "3     [158.34282779693604, 76.28121328353882]   \n",
       "4                                         NaN   \n",
       "..                                        ...   \n",
       "247   [301.49172043800354, 117.4190034866333]   \n",
       "248   [299.9294970780611, 118.42326319217682]   \n",
       "249   [299.5945331156254, 117.64745843410492]   \n",
       "250   [296.6519346833229, 115.27929627895355]   \n",
       "251  [294.26364240050316, 113.51705598831177]   \n",
       "\n",
       "                                              face_aus  face_id     pitchF0  \\\n",
       "0    [0.19813386, 0.9820602, 0.01565872, 0.7402648,...     33.0         NaN   \n",
       "1    [0.19556102, 0.9880665, 0.0186732, 0.6875217, ...     33.0  235.303811   \n",
       "2    [0.17714082, 0.9813759, 0.019113649, 0.6613569...     33.0  228.937996   \n",
       "3    [0.18197653, 0.9805567, 0.020266142, 0.6350254...     33.0         NaN   \n",
       "4                                                  NaN      NaN  241.922074   \n",
       "..                                                 ...      ...         ...   \n",
       "247  [0.14955567, 0.937534, 0.0047857133, 0.8661386...     11.0  176.077137   \n",
       "248  [0.14492835, 0.9356139, 0.004929804, 0.8497235...     26.0  174.976738   \n",
       "249  [0.14012621, 0.9424231, 0.006228745, 0.8394418...     26.0  182.762635   \n",
       "250  [0.16058972, 0.94528455, 0.006031608, 0.788579...     26.0  198.402287   \n",
       "251  [0.17241754, 0.9531619, 0.005380209, 0.7690767...     26.0  214.817071   \n",
       "\n",
       "     segment_id  segment_start  segment_end track speaker_id  text_token_id  \\\n",
       "0           0.0            0.0          0.0                             0.0   \n",
       "1           0.0            0.0          0.0                             0.0   \n",
       "2           0.0            0.0          0.0                             0.0   \n",
       "3           0.0            0.0          0.0                             0.0   \n",
       "4           0.0            0.0          0.0                             0.0   \n",
       "..          ...            ...          ...   ...        ...            ...   \n",
       "247         0.0            0.0          0.0                             0.0   \n",
       "248         0.0            0.0          0.0                             0.0   \n",
       "249         0.0            0.0          0.0                             0.0   \n",
       "250         0.0            0.0          0.0                             0.0   \n",
       "251         0.0            0.0          0.0                             0.0   \n",
       "\n",
       "    text_token  text_token_start  text_token_end  match_id  \n",
       "0                            0.0            0.00       0.0  \n",
       "1                            0.0            0.00       0.0  \n",
       "2                            0.0            0.00       0.0  \n",
       "3       called               0.1            0.42       0.0  \n",
       "4       called               0.1            0.42       0.0  \n",
       "..         ...               ...             ...       ...  \n",
       "247                          0.0            0.00       0.0  \n",
       "248                          0.0            0.00       1.0  \n",
       "249                          0.0            0.00       1.0  \n",
       "250                          0.0            0.00       1.0  \n",
       "251                          0.0            0.00       1.0  \n",
       "\n",
       "[252 rows x 18 columns]"
      ]
     },
     "execution_count": 6,
     "metadata": {},
     "output_type": "execute_result"
    }
   ],
   "source": [
    "output_df = pd.DataFrame(output.features)\n",
    "output_df"
   ]
  },
  {
   "cell_type": "markdown",
   "id": "649368f0",
   "metadata": {},
   "source": [
    "The column names of the data frame tell us about the features that our pipeline extracted. We can see multiple columns with the `face_` prefix that contain facial expression features and information about the detected faces. Currently, mexca only extracts the voice pitch `pitchF0` from the audio signal. Columns with the `segment_` prefix contain information about the speech segments (note that this is unreliable for video segments this short). The prefix `text_` indicates column with information about the trascribed spoken text. The last column `match_id` matches the ids of the detected faces to the detected speakers by overlapping time in the video. For further information about the output and features, see the [documentation](https://mexca.readthedocs.io/en/latest/index.html)."
   ]
  },
  {
   "cell_type": "markdown",
   "id": "b54841af",
   "metadata": {},
   "source": [
    "# Coming Soon\n",
    "\n",
    "- Feature visualization tools\n",
    "- Tutorial on advanced usage of mexca\n",
    "- Tutorial on extending mexca with custom features and components"
   ]
  }
 ],
 "metadata": {
  "kernelspec": {
   "display_name": "Python 3.9.7 ('mexca': venv)",
   "language": "python",
   "name": "python3"
  },
  "language_info": {
   "codemirror_mode": {
    "name": "ipython",
    "version": 3
   },
   "file_extension": ".py",
   "mimetype": "text/x-python",
   "name": "python",
   "nbconvert_exporter": "python",
   "pygments_lexer": "ipython3",
   "version": "3.9.7"
  },
  "vscode": {
   "interpreter": {
    "hash": "d1ea498c449bc45437098e614c516d9cf223fb6784d9036fbfa43d25d0156723"
   }
  }
 },
 "nbformat": 4,
 "nbformat_minor": 5
}
