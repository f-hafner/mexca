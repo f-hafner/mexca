{
 "cells": [
  {
   "cell_type": "markdown",
   "id": "b679cf39",
   "metadata": {},
   "source": [
    "# Mexca Demo\n",
    "\n",
    "**Requirements**: mexca base package, Docker\n",
    "\n",
    "This is a short demo to illustrate how mexca can be used to extract emotion expression features from a video file. As an example, we will use a video of the presidential debate betweeen Clinton and Trump in 2016. The video can be found on [YouTube](https://www.youtube.com/watch?v=DBhrSdjePkk), but we will use a file that is hosted by a third party."
   ]
  },
  {
   "cell_type": "code",
   "execution_count": 1,
   "id": "0b50b5ff",
   "metadata": {},
   "outputs": [],
   "source": [
    "import logging\n",
    "import os\n",
    "import yaml\n",
    "import pandas as pd\n",
    "from huggingface_hub import notebook_login\n",
    "from IPython.display import Video\n",
    "from urllib.request import urlopen\n",
    "from mexca.container import AudioTranscriberContainer, FaceExtractorContainer, SentimentExtractorContainer, SpeakerIdentifierContainer, VoiceExtractorContainer\n",
    "from mexca.pipeline import Pipeline"
   ]
  },
  {
   "cell_type": "markdown",
   "id": "9de48e94",
   "metadata": {},
   "source": [
    "Before we can apply mexca, we need to download the example video file."
   ]
  },
  {
   "cell_type": "code",
   "execution_count": 2,
   "id": "9bdd12ea",
   "metadata": {},
   "outputs": [],
   "source": [
    "def download_example(url, filename):\n",
    "    # Check if filename exists\n",
    "    if not os.path.exists(filename):\n",
    "        video = urlopen(url)\n",
    "\n",
    "        with open(filename, 'wb') as file:\n",
    "            file.write(video.read())"
   ]
  },
  {
   "cell_type": "code",
   "execution_count": 3,
   "id": "edfc96ea",
   "metadata": {},
   "outputs": [
    {
     "data": {
      "text/html": [
       "<video src=\"debate.mp4\" controls  >\n",
       "      Your browser does not support the <code>video</code> element.\n",
       "    </video>"
      ],
      "text/plain": [
       "<IPython.core.display.Video object>"
      ]
     },
     "execution_count": 3,
     "metadata": {},
     "output_type": "execute_result"
    }
   ],
   "source": [
    "example_url = 'https://books.psychstat.org/rdata/data/debate.mp4'\n",
    "filename = 'debate.mp4'\n",
    "\n",
    "download_example(example_url, filename)\n",
    "\n",
    "Video(filename)"
   ]
  },
  {
   "cell_type": "markdown",
   "id": "4e206378",
   "metadata": {},
   "source": [
    "To track the progress of the pipeline, we create a logger from the `logging.yml` file in this directory."
   ]
  },
  {
   "cell_type": "code",
   "execution_count": 4,
   "id": "b53abcb3",
   "metadata": {},
   "outputs": [],
   "source": [
    "with open('logging.yml', 'r', encoding='utf-8') as file:\n",
    "    config = yaml.safe_load(file)\n",
    "    logging.config.dictConfig(config)"
   ]
  },
  {
   "cell_type": "markdown",
   "id": "db52bef4",
   "metadata": {},
   "source": [
    "Now that we have the example video, we can create a mexca pipeline object from containerized components. We specify that mexca should detect two faces and speakers (Clinton and Trump).\n",
    "\n",
    "**Note**: The first time you run the pipeline with containerzied components, the containers will be automatically downloaded which can take some time."
   ]
  },
  {
   "attachments": {},
   "cell_type": "markdown",
   "id": "95ee5ef5",
   "metadata": {},
   "source": [
    "*Note*: mexca builds on pretrained models from the pyannote.audio package. Since release 2.1.1, downloading the pretrained models requires the user to accept two user agreements on Hugging Face hub and generate an authentication token. Therefore, to run the mexca pipeline, you must accept the user agreements on [here](https://huggingface.co/pyannote/speaker-diarization) and [here](https://huggingface.co/pyannote/segmentation). Then, generate an authentication token [here](https://huggingface.co/settings/tokens). Use this token as the value for `use_auth_token` (instead of `\"HF_TOKEN\"`)."
   ]
  },
  {
   "cell_type": "code",
   "execution_count": 5,
   "id": "caf7581d",
   "metadata": {},
   "outputs": [],
   "source": [
    "pipeline = Pipeline(\n",
    "    face_extractor=FaceExtractorContainer(num_faces=2),\n",
    "    speaker_identifier=SpeakerIdentifierContainer(\n",
    "        num_speakers=2,\n",
    "        use_auth_token=os.environ[\"HF_TOKEN\"]#\"HF_TOKEN\" # Replace this string with your token\n",
    "    ),\n",
    "    voice_extractor=VoiceExtractorContainer(),\n",
    "    audio_transcriber=AudioTranscriberContainer(),\n",
    "    sentiment_extractor=SentimentExtractorContainer()\n",
    ")"
   ]
  },
  {
   "cell_type": "markdown",
   "id": "bc9a3497",
   "metadata": {},
   "source": [
    "Next, we can apply the mexca pipeline object to the example video file. It can take a long time to process video files. Thus, we will only process 10 seconds of the video by setting the `process_subclip` argument (seconds 19 to 29). We also specify that 5 video frames should be processed at the same time (in a batch), and only every 5th frame should be processed."
   ]
  },
  {
   "cell_type": "code",
   "execution_count": 6,
   "id": "b01f8ea6",
   "metadata": {},
   "outputs": [
    {
     "name": "stdout",
     "output_type": "stream",
     "text": [
      "2023-11-15 10:37:10,320 - INFO - Starting MEXCA pipeline\n",
      "2023-11-15 10:37:10,610 - INFO - Wrote audio file to debate.wav\n",
      "2023-11-15 10:37:10,617 - INFO - Processing video frames\n",
      "  0%|          | 0/10 [00:00<?, ?it/s]\n",
      " 10%|█         | 1/10 [00:06<01:00,  6.70s/it]\n",
      " 20%|██        | 2/10 [00:08<00:32,  4.05s/it]\n",
      " 30%|███       | 3/10 [00:11<00:23,  3.36s/it]\n",
      " 40%|████      | 4/10 [00:13<00:18,  3.03s/it]\n",
      " 50%|█████     | 5/10 [00:16<00:14,  2.85s/it]\n",
      " 60%|██████    | 6/10 [00:18<00:10,  2.72s/it]\n",
      " 70%|███████   | 7/10 [00:21<00:07,  2.61s/it]\n",
      " 80%|████████  | 8/10 [00:23<00:05,  2.56s/it]\n",
      " 90%|█████████ | 9/10 [00:26<00:02,  2.52s/it]\n",
      "100%|██████████| 10/10 [00:28<00:00,  2.55s/it]\n",
      "100%|██████████| 10/10 [00:28<00:00,  2.88s/it]\n",
      "\n",
      "\n",
      "2023-11-15 10:37:51,790 - INFO - Identifying speakers\n",
      "torchvision is not available - cannot save figures\n",
      "\n",
      "2023-11-15 10:38:18,728 - INFO - Transcribing speech segments to text\n",
      "/usr/local/lib/python3.9/site-packages/whisper/timing.py:58: NumbaDeprecationWarning: The 'nopython' keyword argument was not supplied to the 'numba.jit' decorator. The implicit default value for this argument is currently False, but it will be changed to True in Numba 0.59.0. See https://numba.readthedocs.io/en/stable/reference/deprecation.html#deprecation-of-object-mode-fall-back-behaviour-when-using-jit for details.\n",
      "  def backtrace(trace: np.ndarray):\n",
      "\n",
      "  0%|          | 0/3 [00:00<?, ?it/s]\n",
      " 33%|███▎      | 1/3 [00:16<00:33, 16.71s/it]\n",
      " 67%|██████▋   | 2/3 [00:22<00:10, 10.35s/it]\n",
      "100%|██████████| 3/3 [00:32<00:00, 10.28s/it]\n",
      "100%|██████████| 3/3 [00:32<00:00, 10.93s/it]\n",
      "\n",
      "2023-11-15 10:38:57,424 - INFO - Extracting sentiment from transcribed text\n",
      "  0%|          | 0/5 [00:00<?, ?it/s]\n",
      " 20%|██        | 1/5 [00:12<00:51, 12.75s/it]\n",
      " 40%|████      | 2/5 [00:12<00:15,  5.32s/it]\n",
      " 60%|██████    | 3/5 [00:13<00:05,  2.98s/it]\n",
      " 80%|████████  | 4/5 [00:13<00:01,  1.86s/it]\n",
      "100%|██████████| 5/5 [00:13<00:00,  2.66s/it]\n",
      "\n",
      "2023-11-15 10:39:17,573 - INFO - Extracting voice features\n",
      "2023-11-15 10:39:30,395 - INFO - Removing audio file at debate.wav\n",
      "2023-11-15 10:39:30,396 - INFO - MEXCA pipeline finished\n"
     ]
    }
   ],
   "source": [
    "output = pipeline.apply(filename, frame_batch_size=5, skip_frames=5, process_subclip=(19, 29))"
   ]
  },
  {
   "cell_type": "markdown",
   "id": "df081d62",
   "metadata": {},
   "source": [
    "The pipeline returns a `Multimodal` object that contains the extracted emotion expression features as a `polars.LazyFrame` in the `feature` attribute."
   ]
  },
  {
   "cell_type": "code",
   "execution_count": 7,
   "id": "36891d4e",
   "metadata": {},
   "outputs": [
    {
     "data": {
      "text/html": [
       "<div><style>\n",
       ".dataframe > thead > tr > th,\n",
       ".dataframe > tbody > tr > td {\n",
       "  text-align: right;\n",
       "  white-space: pre-wrap;\n",
       "}\n",
       "</style>\n",
       "<small>shape: (50, 44)</small><table border=\"1\" class=\"dataframe\"><thead><tr><th>filename</th><th>time</th><th>frame</th><th>face_box</th><th>face_prob</th><th>face_landmarks</th><th>face_aus</th><th>face_label</th><th>face_confidence</th><th>segment_start</th><th>segment_end</th><th>segment_speaker_label</th><th>span_start</th><th>span_end</th><th>span_text</th><th>span_confidence</th><th>span_sent_pos</th><th>span_sent_neg</th><th>span_sent_neu</th><th>pitch_f0_hz</th><th>jitter_local_rel_f0</th><th>shimmer_local_rel_f0</th><th>hnr_db</th><th>f1_freq_hz</th><th>f1_bandwidth_hz</th><th>f1_amplitude_rel_f0</th><th>f2_freq_hz</th><th>f2_bandwidth_hz</th><th>f2_amplitude_rel_f0</th><th>f3_freq_hz</th><th>f3_bandwidth_hz</th><th>f3_amplitude_rel_f0</th><th>alpha_ratio_db</th><th>hammar_index_db</th><th>spectral_slope_0_500</th><th>spectral_slope_500_1500</th><th>h1_h2_diff_db</th><th>h1_f3_diff_db</th><th>mfcc_1</th><th>mfcc_2</th><th>mfcc_3</th><th>mfcc_4</th><th>spectral_flux</th><th>rms_db</th></tr><tr><td>str</td><td>f64</td><td>i64</td><td>list[f64]</td><td>f64</td><td>list[list[f64]]</td><td>list[f64]</td><td>str</td><td>f64</td><td>f64</td><td>f64</td><td>str</td><td>f64</td><td>f64</td><td>str</td><td>f64</td><td>f64</td><td>f64</td><td>f64</td><td>f64</td><td>f64</td><td>f64</td><td>f32</td><td>f64</td><td>f64</td><td>f32</td><td>f64</td><td>f64</td><td>f32</td><td>f64</td><td>f64</td><td>f32</td><td>f64</td><td>f64</td><td>f64</td><td>f64</td><td>f64</td><td>f32</td><td>f64</td><td>f64</td><td>f64</td><td>f64</td><td>f64</td><td>f64</td></tr></thead><tbody><tr><td>&quot;debate.mp4&quot;</td><td>19.0</td><td>475</td><td>[153.573257, 52.999695, … 99.327591]</td><td>0.99995</td><td>[[160.349411, 73.758377], [172.529526, 68.586174], … [175.783569, 87.511871]]</td><td>[0.275031, 0.235295, … 0.019616]</td><td>&quot;0&quot;</td><td>0.639248</td><td>null</td><td>null</td><td>null</td><td>null</td><td>null</td><td>null</td><td>null</td><td>null</td><td>null</td><td>null</td><td>null</td><td>null</td><td>null</td><td>null</td><td>null</td><td>null</td><td>null</td><td>null</td><td>null</td><td>null</td><td>null</td><td>null</td><td>null</td><td>null</td><td>null</td><td>null</td><td>null</td><td>null</td><td>null</td><td>null</td><td>null</td><td>null</td><td>null</td><td>null</td><td>null</td></tr><tr><td>&quot;debate.mp4&quot;</td><td>19.2</td><td>480</td><td>[152.477203, 51.660679, … 99.063484]</td><td>0.999502</td><td>[[158.934433, 73.332603], [171.008545, 66.621361], … [176.438599, 86.17321]]</td><td>[0.260472, 0.216152, … 0.022298]</td><td>&quot;0&quot;</td><td>0.560269</td><td>null</td><td>null</td><td>null</td><td>null</td><td>null</td><td>null</td><td>null</td><td>null</td><td>null</td><td>null</td><td>null</td><td>null</td><td>null</td><td>null</td><td>null</td><td>null</td><td>null</td><td>null</td><td>null</td><td>null</td><td>null</td><td>null</td><td>null</td><td>null</td><td>null</td><td>null</td><td>null</td><td>null</td><td>null</td><td>null</td><td>null</td><td>null</td><td>null</td><td>null</td><td>null</td></tr><tr><td>&quot;debate.mp4&quot;</td><td>19.4</td><td>485</td><td>null</td><td>null</td><td>null</td><td>null</td><td>null</td><td>null</td><td>null</td><td>null</td><td>null</td><td>null</td><td>null</td><td>null</td><td>null</td><td>null</td><td>null</td><td>null</td><td>null</td><td>null</td><td>null</td><td>null</td><td>null</td><td>null</td><td>null</td><td>null</td><td>null</td><td>null</td><td>null</td><td>null</td><td>null</td><td>null</td><td>null</td><td>null</td><td>null</td><td>null</td><td>null</td><td>null</td><td>null</td><td>null</td><td>null</td><td>null</td><td>null</td></tr><tr><td>&quot;debate.mp4&quot;</td><td>19.6</td><td>490</td><td>null</td><td>null</td><td>null</td><td>null</td><td>null</td><td>null</td><td>null</td><td>null</td><td>null</td><td>null</td><td>null</td><td>null</td><td>null</td><td>null</td><td>null</td><td>null</td><td>null</td><td>null</td><td>null</td><td>null</td><td>null</td><td>null</td><td>null</td><td>null</td><td>null</td><td>null</td><td>null</td><td>null</td><td>null</td><td>null</td><td>null</td><td>null</td><td>null</td><td>null</td><td>null</td><td>null</td><td>null</td><td>null</td><td>null</td><td>null</td><td>null</td></tr><tr><td>&quot;debate.mp4&quot;</td><td>19.8</td><td>495</td><td>[154.11084, 50.174015, … 97.729965]</td><td>0.999869</td><td>[[161.535721, 70.498871], [174.275253, 64.650093], … [178.821945, 85.012604]]</td><td>[0.269365, 0.224688, … 0.027645]</td><td>&quot;0&quot;</td><td>0.348363</td><td>null</td><td>null</td><td>null</td><td>null</td><td>null</td><td>null</td><td>null</td><td>null</td><td>null</td><td>null</td><td>null</td><td>null</td><td>null</td><td>null</td><td>null</td><td>null</td><td>null</td><td>null</td><td>null</td><td>null</td><td>null</td><td>null</td><td>null</td><td>null</td><td>null</td><td>null</td><td>null</td><td>null</td><td>null</td><td>null</td><td>null</td><td>null</td><td>null</td><td>null</td><td>null</td></tr><tr><td>&quot;debate.mp4&quot;</td><td>20.0</td><td>500</td><td>null</td><td>null</td><td>null</td><td>null</td><td>null</td><td>null</td><td>null</td><td>null</td><td>null</td><td>null</td><td>null</td><td>null</td><td>null</td><td>null</td><td>null</td><td>null</td><td>null</td><td>null</td><td>null</td><td>null</td><td>null</td><td>null</td><td>null</td><td>null</td><td>null</td><td>null</td><td>null</td><td>null</td><td>null</td><td>null</td><td>null</td><td>null</td><td>null</td><td>null</td><td>null</td><td>null</td><td>null</td><td>null</td><td>null</td><td>null</td><td>null</td></tr><tr><td>&quot;debate.mp4&quot;</td><td>20.2</td><td>505</td><td>null</td><td>null</td><td>null</td><td>null</td><td>null</td><td>null</td><td>null</td><td>null</td><td>null</td><td>null</td><td>null</td><td>null</td><td>null</td><td>null</td><td>null</td><td>null</td><td>null</td><td>null</td><td>null</td><td>null</td><td>null</td><td>null</td><td>null</td><td>null</td><td>null</td><td>null</td><td>null</td><td>null</td><td>null</td><td>null</td><td>null</td><td>null</td><td>null</td><td>null</td><td>null</td><td>null</td><td>null</td><td>null</td><td>null</td><td>null</td><td>null</td></tr><tr><td>&quot;debate.mp4&quot;</td><td>20.4</td><td>510</td><td>null</td><td>null</td><td>null</td><td>null</td><td>null</td><td>null</td><td>null</td><td>null</td><td>null</td><td>null</td><td>null</td><td>null</td><td>null</td><td>null</td><td>null</td><td>null</td><td>null</td><td>null</td><td>null</td><td>null</td><td>null</td><td>null</td><td>null</td><td>null</td><td>null</td><td>null</td><td>null</td><td>null</td><td>null</td><td>null</td><td>null</td><td>null</td><td>null</td><td>null</td><td>null</td><td>null</td><td>null</td><td>null</td><td>null</td><td>null</td><td>null</td></tr><tr><td>&quot;debate.mp4&quot;</td><td>20.6</td><td>515</td><td>null</td><td>null</td><td>null</td><td>null</td><td>null</td><td>null</td><td>null</td><td>null</td><td>null</td><td>null</td><td>null</td><td>null</td><td>null</td><td>null</td><td>null</td><td>null</td><td>null</td><td>null</td><td>null</td><td>null</td><td>null</td><td>null</td><td>null</td><td>null</td><td>null</td><td>null</td><td>null</td><td>null</td><td>null</td><td>null</td><td>null</td><td>null</td><td>null</td><td>null</td><td>null</td><td>null</td><td>null</td><td>null</td><td>null</td><td>null</td><td>null</td></tr><tr><td>&quot;debate.mp4&quot;</td><td>20.8</td><td>520</td><td>null</td><td>null</td><td>null</td><td>null</td><td>null</td><td>null</td><td>null</td><td>null</td><td>null</td><td>null</td><td>null</td><td>null</td><td>null</td><td>null</td><td>null</td><td>null</td><td>null</td><td>null</td><td>null</td><td>null</td><td>null</td><td>null</td><td>null</td><td>null</td><td>null</td><td>null</td><td>null</td><td>null</td><td>null</td><td>null</td><td>null</td><td>null</td><td>null</td><td>null</td><td>null</td><td>null</td><td>null</td><td>null</td><td>null</td><td>null</td><td>null</td></tr><tr><td>&quot;debate.mp4&quot;</td><td>21.0</td><td>525</td><td>null</td><td>null</td><td>null</td><td>null</td><td>null</td><td>null</td><td>null</td><td>null</td><td>null</td><td>null</td><td>null</td><td>null</td><td>null</td><td>null</td><td>null</td><td>null</td><td>null</td><td>null</td><td>null</td><td>null</td><td>null</td><td>null</td><td>null</td><td>null</td><td>null</td><td>null</td><td>null</td><td>null</td><td>null</td><td>null</td><td>null</td><td>null</td><td>null</td><td>null</td><td>null</td><td>null</td><td>null</td><td>null</td><td>null</td><td>null</td><td>null</td></tr><tr><td>&quot;debate.mp4&quot;</td><td>21.2</td><td>530</td><td>null</td><td>null</td><td>null</td><td>null</td><td>null</td><td>null</td><td>null</td><td>null</td><td>null</td><td>null</td><td>null</td><td>null</td><td>null</td><td>null</td><td>null</td><td>null</td><td>null</td><td>null</td><td>null</td><td>null</td><td>null</td><td>null</td><td>null</td><td>null</td><td>null</td><td>null</td><td>null</td><td>null</td><td>null</td><td>null</td><td>null</td><td>null</td><td>null</td><td>null</td><td>null</td><td>null</td><td>null</td><td>null</td><td>null</td><td>null</td><td>null</td></tr><tr><td>&hellip;</td><td>&hellip;</td><td>&hellip;</td><td>&hellip;</td><td>&hellip;</td><td>&hellip;</td><td>&hellip;</td><td>&hellip;</td><td>&hellip;</td><td>&hellip;</td><td>&hellip;</td><td>&hellip;</td><td>&hellip;</td><td>&hellip;</td><td>&hellip;</td><td>&hellip;</td><td>&hellip;</td><td>&hellip;</td><td>&hellip;</td><td>&hellip;</td><td>&hellip;</td><td>&hellip;</td><td>&hellip;</td><td>&hellip;</td><td>&hellip;</td><td>&hellip;</td><td>&hellip;</td><td>&hellip;</td><td>&hellip;</td><td>&hellip;</td><td>&hellip;</td><td>&hellip;</td><td>&hellip;</td><td>&hellip;</td><td>&hellip;</td><td>&hellip;</td><td>&hellip;</td><td>&hellip;</td><td>&hellip;</td><td>&hellip;</td><td>&hellip;</td><td>&hellip;</td><td>&hellip;</td><td>&hellip;</td></tr><tr><td>&quot;debate.mp4&quot;</td><td>26.6</td><td>665</td><td>[249.867706, 43.731461, … 161.708832]</td><td>0.998896</td><td>[[281.625214, 87.846039], [320.181458, 82.123062], … [322.384064, 129.273697]]</td><td>[0.258253, 0.233657, … 0.017737]</td><td>&quot;0&quot;</td><td>0.923282</td><td>null</td><td>null</td><td>null</td><td>null</td><td>null</td><td>null</td><td>null</td><td>null</td><td>null</td><td>null</td><td>null</td><td>null</td><td>null</td><td>null</td><td>null</td><td>null</td><td>null</td><td>null</td><td>null</td><td>null</td><td>null</td><td>null</td><td>null</td><td>null</td><td>null</td><td>null</td><td>null</td><td>null</td><td>null</td><td>null</td><td>null</td><td>null</td><td>null</td><td>null</td><td>null</td></tr><tr><td>&quot;debate.mp4&quot;</td><td>26.8</td><td>670</td><td>[247.707504, 44.749535, … 154.964111]</td><td>0.997877</td><td>[[280.566223, 83.166878], [319.674225, 79.087524], … [318.785553, 126.177124]]</td><td>[0.255881, 0.223953, … 0.018249]</td><td>&quot;0&quot;</td><td>0.89319</td><td>null</td><td>null</td><td>null</td><td>null</td><td>null</td><td>null</td><td>null</td><td>null</td><td>null</td><td>null</td><td>null</td><td>null</td><td>null</td><td>null</td><td>null</td><td>null</td><td>null</td><td>null</td><td>null</td><td>null</td><td>null</td><td>null</td><td>null</td><td>null</td><td>null</td><td>null</td><td>null</td><td>null</td><td>null</td><td>null</td><td>null</td><td>null</td><td>null</td><td>null</td><td>null</td></tr><tr><td>&quot;debate.mp4&quot;</td><td>27.0</td><td>675</td><td>[249.170456, 36.767132, … 155.469177]</td><td>0.998594</td><td>[[284.498138, 79.510689], [323.63385, 79.160614], … [319.633911, 125.948547]]</td><td>[0.244164, 0.213706, … 0.017672]</td><td>&quot;0&quot;</td><td>0.899905</td><td>null</td><td>null</td><td>null</td><td>null</td><td>null</td><td>null</td><td>null</td><td>null</td><td>null</td><td>null</td><td>null</td><td>null</td><td>null</td><td>null</td><td>null</td><td>null</td><td>null</td><td>null</td><td>null</td><td>null</td><td>null</td><td>null</td><td>null</td><td>null</td><td>null</td><td>null</td><td>null</td><td>null</td><td>null</td><td>null</td><td>null</td><td>null</td><td>null</td><td>null</td><td>null</td></tr><tr><td>&quot;debate.mp4&quot;</td><td>27.2</td><td>680</td><td>[257.858307, 37.570606, … 151.123703]</td><td>0.998792</td><td>[[289.717957, 80.450684], [329.411377, 82.244186], … [326.436462, 125.565964]]</td><td>[0.235687, 0.202307, … 0.03624]</td><td>&quot;0&quot;</td><td>0.894046</td><td>null</td><td>null</td><td>null</td><td>null</td><td>null</td><td>null</td><td>null</td><td>null</td><td>null</td><td>null</td><td>null</td><td>null</td><td>null</td><td>null</td><td>null</td><td>null</td><td>null</td><td>null</td><td>null</td><td>null</td><td>null</td><td>null</td><td>null</td><td>null</td><td>null</td><td>null</td><td>null</td><td>null</td><td>null</td><td>null</td><td>null</td><td>null</td><td>null</td><td>null</td><td>null</td></tr><tr><td>&quot;debate.mp4&quot;</td><td>27.4</td><td>685</td><td>[243.769257, 65.50132, … 190.120071]</td><td>0.999873</td><td>[[274.068054, 119.086456], [315.734192, 119.143669], … [313.1604, 158.018723]]</td><td>[0.197549, 0.162154, … 0.024784]</td><td>&quot;1&quot;</td><td>0.947031</td><td>null</td><td>null</td><td>null</td><td>null</td><td>null</td><td>null</td><td>null</td><td>null</td><td>null</td><td>null</td><td>null</td><td>null</td><td>null</td><td>null</td><td>null</td><td>null</td><td>null</td><td>null</td><td>null</td><td>null</td><td>null</td><td>null</td><td>null</td><td>null</td><td>null</td><td>null</td><td>null</td><td>null</td><td>null</td><td>null</td><td>null</td><td>null</td><td>null</td><td>null</td><td>null</td></tr><tr><td>&quot;debate.mp4&quot;</td><td>27.6</td><td>690</td><td>[261.764618, 70.031937, … 187.353912]</td><td>0.998694</td><td>[[288.036041, 121.702301], [329.862366, 121.154312], … [327.659271, 159.312973]]</td><td>[0.187412, 0.170768, … 0.03153]</td><td>&quot;1&quot;</td><td>0.957537</td><td>null</td><td>null</td><td>null</td><td>null</td><td>null</td><td>null</td><td>null</td><td>null</td><td>null</td><td>null</td><td>null</td><td>null</td><td>null</td><td>null</td><td>null</td><td>null</td><td>null</td><td>null</td><td>null</td><td>null</td><td>null</td><td>null</td><td>null</td><td>null</td><td>null</td><td>null</td><td>null</td><td>null</td><td>null</td><td>null</td><td>null</td><td>null</td><td>null</td><td>null</td><td>null</td></tr><tr><td>&quot;debate.mp4&quot;</td><td>27.8</td><td>695</td><td>[275.177032, 73.708344, … 193.296661]</td><td>0.997668</td><td>[[300.53775, 126.640228], [342.388763, 124.373276], … [337.598206, 171.041443]]</td><td>[0.206224, 0.168691, … 0.017209]</td><td>&quot;1&quot;</td><td>0.880514</td><td>null</td><td>null</td><td>null</td><td>null</td><td>null</td><td>null</td><td>null</td><td>null</td><td>null</td><td>null</td><td>null</td><td>null</td><td>null</td><td>null</td><td>null</td><td>null</td><td>null</td><td>null</td><td>null</td><td>null</td><td>null</td><td>null</td><td>null</td><td>null</td><td>null</td><td>null</td><td>null</td><td>null</td><td>null</td><td>null</td><td>null</td><td>null</td><td>null</td><td>null</td><td>null</td></tr><tr><td>&quot;debate.mp4&quot;</td><td>28.0</td><td>700</td><td>[288.997375, 76.064972, … 195.372787]</td><td>0.997949</td><td>[[315.172943, 125.782852], [356.335968, 124.28701], … [353.522186, 167.175171]]</td><td>[0.203589, 0.147651, … 0.019861]</td><td>&quot;1&quot;</td><td>0.927525</td><td>null</td><td>null</td><td>null</td><td>null</td><td>null</td><td>null</td><td>null</td><td>null</td><td>null</td><td>null</td><td>null</td><td>null</td><td>null</td><td>null</td><td>null</td><td>null</td><td>null</td><td>null</td><td>null</td><td>null</td><td>null</td><td>null</td><td>null</td><td>null</td><td>null</td><td>null</td><td>null</td><td>null</td><td>null</td><td>null</td><td>null</td><td>null</td><td>null</td><td>null</td><td>null</td></tr><tr><td>&quot;debate.mp4&quot;</td><td>28.2</td><td>705</td><td>[300.012817, 78.564575, … 190.990738]</td><td>0.999516</td><td>[[323.054718, 129.940491], [363.086853, 128.074692], … [362.2966, 167.768127]]</td><td>[0.20421, 0.158334, … 0.022303]</td><td>&quot;1&quot;</td><td>0.915233</td><td>null</td><td>null</td><td>null</td><td>null</td><td>null</td><td>null</td><td>null</td><td>null</td><td>null</td><td>null</td><td>null</td><td>null</td><td>null</td><td>null</td><td>null</td><td>null</td><td>null</td><td>null</td><td>null</td><td>null</td><td>null</td><td>null</td><td>null</td><td>null</td><td>null</td><td>null</td><td>null</td><td>null</td><td>null</td><td>null</td><td>null</td><td>null</td><td>null</td><td>null</td><td>null</td></tr><tr><td>&quot;debate.mp4&quot;</td><td>28.4</td><td>710</td><td>[300.819366, 63.438255, … 183.440948]</td><td>0.99852</td><td>[[320.118103, 112.208618], [361.576508, 110.858582], … [356.210022, 156.723083]]</td><td>[0.181611, 0.139085, … 0.032166]</td><td>&quot;1&quot;</td><td>0.897356</td><td>null</td><td>null</td><td>null</td><td>null</td><td>null</td><td>null</td><td>null</td><td>null</td><td>null</td><td>null</td><td>null</td><td>null</td><td>null</td><td>null</td><td>null</td><td>null</td><td>null</td><td>null</td><td>null</td><td>null</td><td>null</td><td>null</td><td>null</td><td>null</td><td>null</td><td>null</td><td>null</td><td>null</td><td>null</td><td>null</td><td>null</td><td>null</td><td>null</td><td>null</td><td>null</td></tr><tr><td>&quot;debate.mp4&quot;</td><td>28.6</td><td>715</td><td>[296.278046, 62.413681, … 183.038513]</td><td>0.999893</td><td>[[315.554688, 110.842957], [356.722565, 107.353348], … [353.085449, 152.973572]]</td><td>[0.204269, 0.162319, … 0.030126]</td><td>&quot;1&quot;</td><td>0.904528</td><td>null</td><td>null</td><td>null</td><td>null</td><td>null</td><td>null</td><td>null</td><td>null</td><td>null</td><td>null</td><td>null</td><td>null</td><td>null</td><td>null</td><td>null</td><td>null</td><td>null</td><td>null</td><td>null</td><td>null</td><td>null</td><td>null</td><td>null</td><td>null</td><td>null</td><td>null</td><td>null</td><td>null</td><td>null</td><td>null</td><td>null</td><td>null</td><td>null</td><td>null</td><td>null</td></tr><tr><td>&quot;debate.mp4&quot;</td><td>28.8</td><td>720</td><td>[294.755249, 62.137505, … 188.11322]</td><td>0.999851</td><td>[[315.078918, 114.285561], [355.718811, 110.410934], … [358.601501, 153.253265]]</td><td>[0.219804, 0.193371, … 0.018488]</td><td>&quot;1&quot;</td><td>0.894873</td><td>null</td><td>null</td><td>null</td><td>null</td><td>null</td><td>null</td><td>null</td><td>null</td><td>null</td><td>null</td><td>null</td><td>null</td><td>null</td><td>null</td><td>null</td><td>null</td><td>null</td><td>null</td><td>null</td><td>null</td><td>null</td><td>null</td><td>null</td><td>null</td><td>null</td><td>null</td><td>null</td><td>null</td><td>null</td><td>null</td><td>null</td><td>null</td><td>null</td><td>null</td><td>null</td></tr></tbody></table></div>"
      ],
      "text/plain": [
       "shape: (50, 44)\n",
       "┌────────────┬──────┬───────┬───────────────────────┬───┬────────┬────────┬───────────────┬────────┐\n",
       "│ filename   ┆ time ┆ frame ┆ face_box              ┆ … ┆ mfcc_3 ┆ mfcc_4 ┆ spectral_flux ┆ rms_db │\n",
       "│ ---        ┆ ---  ┆ ---   ┆ ---                   ┆   ┆ ---    ┆ ---    ┆ ---           ┆ ---    │\n",
       "│ str        ┆ f64  ┆ i64   ┆ list[f64]             ┆   ┆ f64    ┆ f64    ┆ f64           ┆ f64    │\n",
       "╞════════════╪══════╪═══════╪═══════════════════════╪═══╪════════╪════════╪═══════════════╪════════╡\n",
       "│ debate.mp4 ┆ 19.0 ┆ 475   ┆ [153.573257,          ┆ … ┆ null   ┆ null   ┆ null          ┆ null   │\n",
       "│            ┆      ┆       ┆ 52.999695, … 99.327…  ┆   ┆        ┆        ┆               ┆        │\n",
       "│ debate.mp4 ┆ 19.2 ┆ 480   ┆ [152.477203,          ┆ … ┆ null   ┆ null   ┆ null          ┆ null   │\n",
       "│            ┆      ┆       ┆ 51.660679, … 99.063…  ┆   ┆        ┆        ┆               ┆        │\n",
       "│ debate.mp4 ┆ 19.4 ┆ 485   ┆ null                  ┆ … ┆ null   ┆ null   ┆ null          ┆ null   │\n",
       "│ debate.mp4 ┆ 19.6 ┆ 490   ┆ null                  ┆ … ┆ null   ┆ null   ┆ null          ┆ null   │\n",
       "│ …          ┆ …    ┆ …     ┆ …                     ┆ … ┆ …      ┆ …      ┆ …             ┆ …      │\n",
       "│ debate.mp4 ┆ 28.2 ┆ 705   ┆ [300.012817,          ┆ … ┆ null   ┆ null   ┆ null          ┆ null   │\n",
       "│            ┆      ┆       ┆ 78.564575, … 190.99…  ┆   ┆        ┆        ┆               ┆        │\n",
       "│ debate.mp4 ┆ 28.4 ┆ 710   ┆ [300.819366,          ┆ … ┆ null   ┆ null   ┆ null          ┆ null   │\n",
       "│            ┆      ┆       ┆ 63.438255, … 183.44…  ┆   ┆        ┆        ┆               ┆        │\n",
       "│ debate.mp4 ┆ 28.6 ┆ 715   ┆ [296.278046,          ┆ … ┆ null   ┆ null   ┆ null          ┆ null   │\n",
       "│            ┆      ┆       ┆ 62.413681, … 183.03…  ┆   ┆        ┆        ┆               ┆        │\n",
       "│ debate.mp4 ┆ 28.8 ┆ 720   ┆ [294.755249,          ┆ … ┆ null   ┆ null   ┆ null          ┆ null   │\n",
       "│            ┆      ┆       ┆ 62.137505, … 188.11…  ┆   ┆        ┆        ┆               ┆        │\n",
       "└────────────┴──────┴───────┴───────────────────────┴───┴────────┴────────┴───────────────┴────────┘"
      ]
     },
     "execution_count": 7,
     "metadata": {},
     "output_type": "execute_result"
    }
   ],
   "source": [
    "output.features.collect()"
   ]
  },
  {
   "cell_type": "markdown",
   "id": "649368f0",
   "metadata": {},
   "source": [
    "The column names of the data frame tell us about the features that our pipeline extracted. We can see multiple columns with the `face_` prefix that contain facial expression features and information about the detected faces. Columns with the `segment_` prefix contain information about the speech segments (note that this can be unreliable for video segments this short). Currently, mexca only extracts the voice pitch `pitch_f0` from the audio signal. The prefix `span_` indicates columns with information about sentences of the trascribed spoken text. For further information about the output and features, see the [documentation](https://mexca.readthedocs.io/en/latest/index.html)."
   ]
  }
 ],
 "metadata": {
  "kernelspec": {
   "display_name": "Python 3 (ipykernel)",
   "language": "python",
   "name": "python3"
  },
  "language_info": {
   "codemirror_mode": {
    "name": "ipython",
    "version": 3
   },
   "file_extension": ".py",
   "mimetype": "text/x-python",
   "name": "python",
   "nbconvert_exporter": "python",
   "pygments_lexer": "ipython3",
   "version": "3.8.10"
  },
  "vscode": {
   "interpreter": {
    "hash": "cf45cf28e02693e1f07e3287e6807361380631608e21e3f53ef1041bfccc5ce4"
   }
  }
 },
 "nbformat": 4,
 "nbformat_minor": 5
}
