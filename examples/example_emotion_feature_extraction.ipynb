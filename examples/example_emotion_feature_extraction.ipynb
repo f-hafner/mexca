{
 "cells": [
  {
   "cell_type": "markdown",
   "metadata": {},
   "source": [
    "# Example: Emotion Feature Extraction With Mexca\n",
    "\n",
    "In this notebook, we will use the US presidential debate between Clinton and Trump in 2016 as an example to extract and compare emotion expressions with **mexca**. The video can be found on [YouTube](https://www.youtube.com/watch?v=DBhrSdjePkk), but we will use a file that is hosted by a third party. In contrast to the `demo.ipynb` notebook, we will dive deeper into different options and arguments that **mexca** provides and put more emphasis on analyzing the pipeline output."
   ]
  },
  {
   "cell_type": "code",
   "execution_count": 1,
   "metadata": {},
   "outputs": [],
   "source": [
    "import cv2\n",
    "import os\n",
    "import matplotlib.pyplot as plt\n",
    "import numpy as np\n",
    "import pandas as pd\n",
    "from huggingface_hub import notebook_login\n",
    "from IPython.display import Video\n",
    "from urllib.request import urlopen\n",
    "from mexca.audio.extraction import VoiceExtractor\n",
    "from mexca.audio.features import FeaturePitchF0\n",
    "from mexca.audio.identification import SpeakerIdentifier\n",
    "from mexca.audio.integration import AudioIntegrator\n",
    "from mexca.core.pipeline import Pipeline\n",
    "from mexca.text.transcription import AudioTextIntegrator, AudioTranscriber, TextRestaurator\n",
    "from mexca.text.sentiment import SentimentExtractor\n",
    "from mexca.video.extraction import FaceExtractor"
   ]
  },
  {
   "cell_type": "markdown",
   "metadata": {},
   "source": [
    "If not already done, we first need to download the video file:"
   ]
  },
  {
   "cell_type": "code",
   "execution_count": 2,
   "metadata": {},
   "outputs": [],
   "source": [
    "def download_example(url, filename):\n",
    "    # Check if filename exists\n",
    "    if not os.path.exists(filename):\n",
    "        video = urlopen(url)\n",
    "\n",
    "        with open(filename, 'wb') as file:\n",
    "            file.write(video.read())"
   ]
  },
  {
   "cell_type": "code",
   "execution_count": 3,
   "metadata": {},
   "outputs": [
    {
     "data": {
      "text/html": [
       "<video src=\"debate.mp4\" controls  >\n",
       "      Your browser does not support the <code>video</code> element.\n",
       "    </video>"
      ],
      "text/plain": [
       "<IPython.core.display.Video object>"
      ]
     },
     "execution_count": 3,
     "metadata": {},
     "output_type": "execute_result"
    }
   ],
   "source": [
    "example_url = 'https://books.psychstat.org/rdata/data/debate.mp4'\n",
    "filename = 'debate.mp4'\n",
    "\n",
    "download_example(example_url, filename)\n",
    "\n",
    "Video(filename)"
   ]
  },
  {
   "cell_type": "markdown",
   "metadata": {},
   "source": [
    "## Building the Pipeline\n",
    "\n",
    "Next, we build the pipeline by combining different steps for video, audio, and text processing. To extract features from faces shown in the video, we include a `FaceExtractor` object. We add `au_model='svm'` to use the pretrained Support Vector Machine classifier to extract facial action unit (AU) activations and `landmark_model='PFLD'` for the Practical Facial Landmark Detector (see [pyfeat](https://py-feat.org/pages/models.html) docs for details). From a quick inspection of the video, we can guess that mostly two faces will be shown (Clinton's and Trump's), so we set `min_clusters=2` and `max_clusters=2`. This means that detected faces will be assigned to two clusters based on their encoded representations (embeddings). In the current version of **mexca**, setting these thresholds is important as too many or too few face clusters might be chosen automatically otherwise."
   ]
  },
  {
   "cell_type": "code",
   "execution_count": 4,
   "metadata": {},
   "outputs": [],
   "source": [
    "n_clusters = 2\n",
    "\n",
    "video = FaceExtractor(\n",
    "    au_model='svm',\n",
    "    landmark_model='PFLD',\n",
    "    min_clusters=n_clusters,\n",
    "    max_clusters=n_clusters\n",
    ")"
   ]
  },
  {
   "cell_type": "markdown",
   "metadata": {},
   "source": [
    "*Note*: mexca builds on pretrained models from the pyannote.audio package. Since release 2.1.1, downloading the pretrained models requires the user to accept two user agreements on Hugging Face hub and generate an authentication token. Therefore, to run the mexca pipeline, please accept the user agreements on [here](https://huggingface.co/pyannote/speaker-diarization) and [here](https://huggingface.co/pyannote/segmentation). Then, generate an authentication token [here](https://huggingface.co/settings/tokens). Use this token to login when running `notebook_login()`. You only need to login when running mexca for the first time."
   ]
  },
  {
   "cell_type": "code",
   "execution_count": null,
   "metadata": {},
   "outputs": [],
   "source": [
    "# Only required the first time to store the token\n",
    "notebook_login()"
   ]
  },
  {
   "cell_type": "markdown",
   "metadata": {},
   "source": [
    "For the audio processing, we combine a `SpeakerIdentifier` and `VoiceExtractor` in an `AudioIntegrator` object. The `SpeakerIdentifier` detects speech segmenets in the audio signal and assigns them to speaker clusters, whereas the `VoiceExtractor` calculates the voice pitch (fundamental frequency F0) which is an emotion expression. Because we have both higher and lower pitched voices in the signal, we choose a wide pitch range for the extraction."
   ]
  },
  {
   "cell_type": "code",
   "execution_count": 5,
   "metadata": {},
   "outputs": [
    {
     "name": "stdout",
     "output_type": "stream",
     "text": [
      "09/20/2022 15:51:13 - WARNING - speechbrain.utils.torch_audio_backend - The torchaudio backend is switched to 'soundfile'. Note that 'sox_io' is not supported on Windows.\n",
      "09/20/2022 15:51:13 - WARNING - speechbrain.utils.torch_audio_backend - The torchaudio backend is switched to 'soundfile'. Note that 'sox_io' is not supported on Windows.\n"
     ]
    }
   ],
   "source": [
    "audio = AudioIntegrator(\n",
    "    SpeakerIdentifier(\n",
    "        num_speakers=n_clusters\n",
    "    ),\n",
    "    VoiceExtractor(\n",
    "        features={\n",
    "            'pitchF0': FeaturePitchF0(\n",
    "                pitch_floor=100.0,\n",
    "                pitch_ceiling=500.0\n",
    "            )\n",
    "        }\n",
    "    )\n",
    ")"
   ]
  },
  {
   "cell_type": "markdown",
   "metadata": {},
   "source": [
    "To extract the sentiment from the spoken text, we create a text processing component. It begins with transcribing the audio signal into text using the `AudioTranscriber` class. We must specify the language of the speech as the underlying model is language-specific. The resulting transcription is often noisy and does not contain any punctuation or grammatical structure. The `TextRestaurator` adds punctuation and a sentence structure to the transcription. Finally, the `SentimentExtractor` predicts a positive, negative, and neutral sentiment score for each sentence. We wrap the text components into an `AudioTextIntegrator` object to align the transcription to the audio signal."
   ]
  },
  {
   "cell_type": "code",
   "execution_count": 6,
   "metadata": {},
   "outputs": [
    {
     "name": "stdout",
     "output_type": "stream",
     "text": [
      "09/20/2022 15:51:15 - INFO - huggingsound.speech_recognition.model - Loading model...\n"
     ]
    }
   ],
   "source": [
    "text = AudioTextIntegrator(\n",
    "    AudioTranscriber(language='english'),\n",
    "    TextRestaurator(),\n",
    "    SentimentExtractor()\n",
    ")"
   ]
  },
  {
   "cell_type": "markdown",
   "metadata": {},
   "source": [
    "Now, we combine the video, audio, and text parts into a `Pipeline` instance, which will run them after each other and integrate the results."
   ]
  },
  {
   "cell_type": "code",
   "execution_count": 7,
   "metadata": {},
   "outputs": [],
   "source": [
    "pipeline = Pipeline(\n",
    "    video=video,\n",
    "    audio=audio,\n",
    "    text=text\n",
    ")"
   ]
  },
  {
   "cell_type": "markdown",
   "metadata": {},
   "source": [
    "To run the **mexca** pipeline, we call the apply method, we call the `apply()` method. The video has a frame rate of 25 and to speed up the processing, we choose to only process every 5th frame by specifying `skip_frames=5`, assuming that emotion expressions don't change substantially faster than 200ms. For this example, we also indicate to only process the first 30 seconds using `process_subclip=(0, 30)`."
   ]
  },
  {
   "cell_type": "code",
   "execution_count": 8,
   "metadata": {},
   "outputs": [
    {
     "name": "stdout",
     "output_type": "stream",
     "text": [
      "Analyzing video ...\n"
     ]
    },
    {
     "name": "stderr",
     "output_type": "stream",
     "text": [
      "100%|██████████| 750/750 [00:30<00:00, 24.43it/s]\n"
     ]
    },
    {
     "name": "stdout",
     "output_type": "stream",
     "text": [
      "Video done\n",
      "Analyzing audio ...\n"
     ]
    },
    {
     "name": "stderr",
     "output_type": "stream",
     "text": [
      "100%|██████████| 4/4 [00:00<00:00, 1106.60it/s]\n"
     ]
    },
    {
     "name": "stdout",
     "output_type": "stream",
     "text": [
      "Audio done\n",
      "Analyzing text ...\n"
     ]
    },
    {
     "name": "stderr",
     "output_type": "stream",
     "text": [
      "100%|██████████| 1/1 [00:28<00:00, 28.84s/it]\n"
     ]
    },
    {
     "name": "stdout",
     "output_type": "stream",
     "text": [
      "Text done\n"
     ]
    }
   ],
   "source": [
    "output = pipeline.apply(\n",
    "    filename,\n",
    "    skip_frames=5,\n",
    "    process_subclip=(0, 30)\n",
    ")"
   ]
  },
  {
   "cell_type": "markdown",
   "metadata": {},
   "source": [
    "To simplify further processing, we convert the `features` attribute from the output of the pipeline into a data frame."
   ]
  },
  {
   "cell_type": "code",
   "execution_count": 9,
   "metadata": {},
   "outputs": [],
   "source": [
    "output_df = pd.DataFrame(output.features)"
   ]
  },
  {
   "cell_type": "markdown",
   "metadata": {},
   "source": [
    "## Analyzing Facial Expressions\n",
    "\n",
    "We start analyzing the output by comparing facial action unit activations between Clinton and Trump."
   ]
  },
  {
   "cell_type": "code",
   "execution_count": 10,
   "metadata": {},
   "outputs": [],
   "source": [
    "def stderr(x):\n",
    "    \"\"\"Calculate the standard error of the mean\n",
    "    \"\"\"\n",
    "    return np.std(x)/np.sqrt(len(x))"
   ]
  },
  {
   "cell_type": "code",
   "execution_count": 11,
   "metadata": {},
   "outputs": [],
   "source": [
    "# Expand action unit lists into separate columns\n",
    "au_df = (output_df['face_aus']\n",
    "    .apply(pd.Series)\n",
    "    .rename(columns=lambda x: f'au_{x}')\n",
    ")\n",
    "au_df['face_id'] = output_df['face_id']\n",
    "\n",
    "# Compute mean and standard error for each action unit\n",
    "au_stats = au_df.groupby(['face_id']).agg([np.mean, stderr])"
   ]
  },
  {
   "cell_type": "code",
   "execution_count": 12,
   "metadata": {},
   "outputs": [
    {
     "data": {
      "image/png": "[encoded data removed]",
      "text/plain": [
       "<Figure size 432x288 with 1 Axes>"
      ]
     },
     "metadata": {
      "needs_background": "light"
     },
     "output_type": "display_data"
    }
   ],
   "source": [
    "n_au = 20 # Nr of action units\n",
    "aus = np.arange(n_au)\n",
    "\n",
    "# Reference id of the action unit\n",
    "au_ref = [1, 2, 4, 5, 6, 7, 9, 10, 11, 12, 14, 15, 17, 20, 23, 24, 25, 26, 28, 43]\n",
    "\n",
    "clinton_au_means = np.array([au_stats[f'au_{i}']['mean'][0] for i in aus])\n",
    "clinton_au_stderrs = np.array([au_stats[f'au_{i}']['stderr'][0] for i in aus])\n",
    "\n",
    "trump_au_means = np.array([au_stats[f'au_{i}']['mean'][1] for i in aus])\n",
    "trump_au_stderrs = np.array([au_stats[f'au_{i}']['stderr'][1] for i in aus])\n",
    "\n",
    "# Create bar plot with error bars\n",
    "width = 0.35\n",
    "\n",
    "fig, ax = plt.subplots()\n",
    "\n",
    "ax.bar(aus-width/2, clinton_au_means, width, yerr=1.96*clinton_au_stderrs, capsize=4,\n",
    "    ecolor='darkgray', label='Clinton', color='seagreen')\n",
    "ax.bar(aus+width/2, trump_au_means, width, yerr=1.96*trump_au_stderrs, capsize=4,\n",
    "    ecolor='darkgray', label='Trump', color='indianred')\n",
    "\n",
    "ax.set_xlabel('Action unit')\n",
    "ax.set_xticks(aus, au_ref)\n",
    "ax.set_ylabel('Mean activation (95% CI)')\n",
    "ax.legend()\n",
    "\n",
    "fig.tight_layout()\n",
    "\n",
    "plt.show()\n"
   ]
  },
  {
   "cell_type": "markdown",
   "metadata": {},
   "source": [
    "The SVM model extracts the activations of 20 action units. The bar plot shows substantial differences between Clinton and Trump in the mean activations of units 1 (sadness, fear), 4 (fear, anger), 10, 11 (disgust, fear), 12 (happiness, contempt), and 28. This pattern could be interpreted as Clinton expressing more sad and fearful, but also happy emotions using her facial muscles than Trump. Trump in contrast might express more anger than Clinton.\n",
    "\n",
    "## Analyzing the Voice\n",
    "\n",
    "Besides facial emotion expressions, **mexca** also allows us to analyze vocal expressions. Currently, it only extracts the voice pitch measured as the fundamental frequency F0 from speakers in the video. Similar to the action units, we can compare voice pitch between Clinton and Trump."
   ]
  },
  {
   "cell_type": "code",
   "execution_count": 13,
   "metadata": {},
   "outputs": [
    {
     "data": {
      "image/png": "[encoded data removed]",
      "text/plain": [
       "<Figure size 432x288 with 1 Axes>"
      ]
     },
     "metadata": {
      "needs_background": "light"
     },
     "output_type": "display_data"
    }
   ],
   "source": [
    "# Extract voice pitch and calculate statistics\n",
    "clinton_pitch = output_df.pitchF0[output_df.speaker_id == 'SPEAKER_00']\n",
    "clinton_time = output_df.time[output_df.speaker_id == 'SPEAKER_00']\n",
    "trump_pitch = output_df.pitchF0[output_df.speaker_id == 'SPEAKER_01']\n",
    "trump_time = output_df.time[output_df.speaker_id == 'SPEAKER_01']\n",
    "\n",
    "clinton_pitch_mean = np.mean(clinton_pitch)\n",
    "clinton_pitch_stderr = stderr(clinton_pitch)\n",
    "\n",
    "trump_pitch_mean = np.mean(trump_pitch)\n",
    "trump_pitch_stderr = stderr(trump_pitch)\n",
    "\n",
    "# Create line plot with mean and confidence bands\n",
    "fig, ax = plt.subplots()\n",
    "\n",
    "ax.plot(clinton_time, clinton_pitch, label='Clinton', color='seagreen')\n",
    "ax.plot(trump_time, trump_pitch, label='Trump', color='indianred')\n",
    "\n",
    "ax.axhline(clinton_pitch_mean, ls='--', color='seagreen')\n",
    "ax.fill_between(\n",
    "    clinton_time[clinton_time < np.min(trump_time)],\n",
    "    clinton_pitch_mean+1.96*clinton_pitch_stderr,\n",
    "    clinton_pitch_mean-1.96*clinton_pitch_stderr,\n",
    "    color='seagreen',\n",
    "    alpha=0.5,\n",
    ")\n",
    "ax.fill_between(\n",
    "    clinton_time[clinton_time > np.min(trump_time)],\n",
    "    clinton_pitch_mean+1.96*clinton_pitch_stderr,\n",
    "    clinton_pitch_mean-1.96*clinton_pitch_stderr,\n",
    "    color='seagreen',\n",
    "    alpha=0.5,\n",
    ")\n",
    "ax.axhline(trump_pitch_mean, ls='--', color='indianred')\n",
    "ax.fill_between(\n",
    "    trump_time,\n",
    "    trump_pitch_mean+1.96*trump_pitch_stderr,\n",
    "    trump_pitch_mean-1.96*trump_pitch_stderr,\n",
    "    color='indianred',\n",
    "    alpha=0.5,\n",
    ")\n",
    "\n",
    "ax.set_xlabel('Time (in s)')\n",
    "ax.set_xticks(np.arange(35, step=5.0))\n",
    "ax.set_ylabel('Pitch (F0)')\n",
    "ax.legend()\n",
    "\n",
    "fig.tight_layout()\n",
    "\n",
    "plt.show()\n"
   ]
  },
  {
   "cell_type": "markdown",
   "metadata": {},
   "source": [
    "The figure shows the voice pitch of Clinton and Trump over time and displays the mean pitch (dashed line) with confidence bands (95% CI). It shows that the baseline pitch of Trump's voice is higher on average than Clinton's. However, to draw meaningful conclusions about differences in expressed emotions, we would need to compare the pitch in specific parts of speech against the baseline (which goes beyond this example).\n",
    "\n",
    "## Analyzing the Text\n",
    "\n",
    "Next to facial expressions and voice features, **mexca** can also extract the sentiment from the spoken text. Again, we can compare the positive, negative, and neutral sentiment in the speech content between Clinton and Trump."
   ]
  },
  {
   "cell_type": "code",
   "execution_count": 14,
   "metadata": {},
   "outputs": [
    {
     "data": {
      "image/png": "[encoded data removed]",
      "text/plain": [
       "<Figure size 432x288 with 3 Axes>"
      ]
     },
     "metadata": {
      "needs_background": "light"
     },
     "output_type": "display_data"
    }
   ],
   "source": [
    "# Extract text sentiment\n",
    "clinton_sent_pos = output_df.text_sent_pos[output_df.speaker_id == 'SPEAKER_00']\n",
    "clinton_sent_neg = output_df.text_sent_neg[output_df.speaker_id == 'SPEAKER_00']\n",
    "clinton_sent_neu = output_df.text_sent_neu[output_df.speaker_id == 'SPEAKER_00']\n",
    "trump_sent_pos = output_df.text_sent_pos[output_df.speaker_id == 'SPEAKER_01']\n",
    "trump_sent_neg = output_df.text_sent_neg[output_df.speaker_id == 'SPEAKER_01']\n",
    "trump_sent_neu = output_df.text_sent_neu[output_df.speaker_id == 'SPEAKER_01']\n",
    "\n",
    "# Create line plot\n",
    "fig, (ax1, ax2, ax3) = plt.subplots(3, 1)\n",
    "\n",
    "ax1.plot(clinton_time, clinton_sent_pos, label='Clinton', color='seagreen')\n",
    "ax1.plot(trump_time, trump_sent_pos, label='Trump', color='indianred')\n",
    "ax2.plot(clinton_time, clinton_sent_neg, label='Clinton', color='seagreen')\n",
    "ax2.plot(trump_time, trump_sent_neg, label='Trump', color='indianred')\n",
    "ax3.plot(clinton_time, clinton_sent_neu, label='Clinton', color='seagreen')\n",
    "ax3.plot(trump_time, trump_sent_neu, label='Trump', color='indianred')\n",
    "\n",
    "ax1.set_title('Positive')\n",
    "ax2.set_title('Negative')\n",
    "ax3.set_title('Neutral')\n",
    "ax3.set_xlabel('Time (in s)')\n",
    "for ax in (ax1, ax2, ax3):\n",
    "    ax.set_xticks(np.arange(35, step=5.0))\n",
    "    ax.set_yticks(np.arange(1.2, step=0.2))\n",
    "ax2.set_ylabel('Sentiment score')\n",
    "ax2.legend()\n",
    "\n",
    "fig.tight_layout()\n",
    "\n",
    "plt.show()"
   ]
  },
  {
   "cell_type": "markdown",
   "metadata": {},
   "source": [
    "We can see that Clinton starts her first turn with strongly negative sentiment (\"I was against it\") and becomes subsequently more neutral. Trump, in contrast, has a strongly positive peak in his turn when he talks about \"the finest deal you've ever seen\".\n",
    "\n",
    "## Visualizing Face and Speaker Identification\n",
    "\n",
    "In the last part of this example, we will create an annotated video to give a visual impression of how well mexca identifies faces and speakers. We use the `opencv` package to read, annotate, and save the video."
   ]
  },
  {
   "cell_type": "code",
   "execution_count": 15,
   "metadata": {},
   "outputs": [],
   "source": [
    "# Open video stream\n",
    "cap = cv2.VideoCapture(filename)\n",
    "\n",
    "# Get size for saving\n",
    "width = int(cap.get(3))\n",
    "height = int(cap.get(4))\n",
    "   \n",
    "size = (width, height)\n",
    "\n",
    "# Open video writer\n",
    "annotated = cv2.VideoWriter('debate_annotated.mp4', \n",
    "    cv2.VideoWriter_fourcc(*'MJPG'), 25, size)\n",
    "\n",
    "# Init couners\n",
    "i = 0\n",
    "t = 0.0\n",
    "\n",
    "while cap.isOpened():\n",
    "    # Read frame\n",
    "    ret, frame = cap.read()\n",
    "    \n",
    "    # Stop if no input received\n",
    "    if not ret:\n",
    "        break\n",
    "\n",
    "    # Get matching outut from pipeline\n",
    "    row = output_df[output_df.frame == i]\n",
    "    \n",
    "    # If matching output contains values update annotations\n",
    "    if len(row) > 0:\n",
    "        boxes = np.array(row.face_box)\n",
    "        face_ids = np.array(row.face_id)\n",
    "        speaker_id = np.array(row.speaker_id)[0]\n",
    "\n",
    "    # Iterate over detected faces\n",
    "    for j, box in enumerate(boxes):\n",
    "        if isinstance(box, np.ndarray):\n",
    "            (x1, y1, x2, y2) = box.astype('int')\n",
    "\n",
    "            # Draw face box rectangle\n",
    "            cv2.rectangle(frame, (x1, y1), (x2, y2), (0, 0, 255), 2)\n",
    "\n",
    "            # Pos for face label\n",
    "            x3 = int(x1+(x2-x1)/2)\n",
    "            y3 = y1-5\n",
    "\n",
    "            # Convert face ids to labels\n",
    "            face_label = 'Clinton' if face_ids[j] == 0.0 else 'Trump'\n",
    "            \n",
    "            # Add face labels\n",
    "            cv2.putText(frame, face_label, (x3, y3), cv2.FONT_HERSHEY_SIMPLEX, 0.45, (0, 0, 255), 2)\n",
    "\n",
    "    # Convert speaker ids to labels\n",
    "    if speaker_id == 'SPEAKER_00':\n",
    "        speaker_label = 'Clinton speaking ...'\n",
    "    elif speaker_id == 'SPEAKER_01':\n",
    "        speaker_label = 'Trump speaking ...'\n",
    "    else:\n",
    "        speaker_label = ''\n",
    "\n",
    "    # Add speaker label\n",
    "    cv2.putText(frame, speaker_label, (25, 25), cv2.FONT_HERSHEY_SIMPLEX, 0.45, (255, 0, 0), 2)\n",
    "\n",
    "    annotated.write(frame)\n",
    "\n",
    "    cv2.imshow('frame', frame)\n",
    "\n",
    "    # 'q' to stop or at 30s\n",
    "    if cv2.waitKey(25) == ord('q') or t > 30.0:\n",
    "        break\n",
    "\n",
    "    i += 1\n",
    "    t += 0.04\n",
    "\n",
    "cap.release()\n",
    "annotated.release()\n",
    "cv2.destroyAllWindows()"
   ]
  },
  {
   "cell_type": "markdown",
   "metadata": {},
   "source": [
    "In the annotated video, we can see that **mexca** identifies faces and speakers very well in this example. Keep in mind that we only process every 5th frame and therefore only update the annotations at this rate.\n",
    "\n",
    "## Summary\n",
    "\n",
    "In this example, we build a custom pipeline using the **mexca** package to extract emotion expressions from a video. We ran the pipeline on an excerpt from the US presidential debate 2016 between Clinton and Trump. We analyzed differences in action unit activations and voice pitch between the two candidate and visualized the face and speaker identification of the pipeline."
   ]
  }
 ],
 "metadata": {
  "kernelspec": {
   "display_name": "Python 3.9.7 ('mexca': venv)",
   "language": "python",
   "name": "python3"
  },
  "language_info": {
   "codemirror_mode": {
    "name": "ipython",
    "version": 3
   },
   "file_extension": ".py",
   "mimetype": "text/x-python",
   "name": "python",
   "nbconvert_exporter": "python",
   "pygments_lexer": "ipython3",
   "version": "3.9.7"
  },
  "orig_nbformat": 4,
  "vscode": {
   "interpreter": {
    "hash": "d1ea498c449bc45437098e614c516d9cf223fb6784d9036fbfa43d25d0156723"
   }
  }
 },
 "nbformat": 4,
 "nbformat_minor": 2
}
